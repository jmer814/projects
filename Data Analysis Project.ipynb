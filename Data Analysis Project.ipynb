{
 "cells": [
  {
   "cell_type": "code",
   "execution_count": 1,
   "id": "15b7b4ad",
   "metadata": {},
   "outputs": [],
   "source": [
    "import pandas as pd\n",
    "import numpy as np\n",
    "import statsmodels.api as sm\n",
    "import scipy.stats as stats\n",
    "from scipy.stats import pearsonr\n",
    "from statsmodels.stats.anova import AnovaRM\n",
    "import matplotlib.pyplot as plt\n",
    "import seaborn as sns"
   ]
  },
  {
   "cell_type": "code",
   "execution_count": 2,
   "id": "ff176ce0",
   "metadata": {},
   "outputs": [],
   "source": [
    "df = pd.read_csv('t3fuds.csv')\n",
    "df = df.replace(' ', '', regex = True)\n",
    "df = df.replace('', np.NaN)\n",
    "df = df.apply(pd.to_numeric, errors='coerce')"
   ]
  },
  {
   "cell_type": "code",
   "execution_count": 3,
   "id": "2d435cd2",
   "metadata": {},
   "outputs": [],
   "source": [
    "#create new df to input vars of interest from fullds\n",
    "sub_use = pd.DataFrame()\n",
    "\n",
    "#add participant ids\n",
    "sub_use['id'] = df.unique_id\n",
    "\n",
    "#add demographics from masterfile\n",
    "demos = pd.read_csv('pt_demos.csv')\n",
    "demos = demos.replace('-99', np.NaN)\n",
    "ethnicities = {'1' : 'American Indian/Alaska Native', \n",
    "               '2' : 'Asian', \n",
    "               '3' : 'Black/African American', \n",
    "               '4' : 'Hispanic/Latino', \n",
    "               '5' : 'More than one race', \n",
    "               '6' : 'Native Hawaiian/Other Pacific Islander', \n",
    "               '7' : 'Unknown', \n",
    "               '8' : 'White'}\n",
    "demos = demos.replace({\"ethnicity\" : ethnicities}) \n",
    "demos.sex = demos.sex.replace('1', 'M', regex=True)\n",
    "demos.sex = demos.sex.replace('2', 'F', regex=True)\n",
    "\n",
    "sub_use = pd.merge(sub_use, demos, how = 'left', left_on = 'id', right_on = 'unique_id')\n",
    "sub_use.drop('unique_id', axis=1, inplace=True)"
   ]
  },
  {
   "cell_type": "code",
   "execution_count": 4,
   "id": "d5e7ea63",
   "metadata": {},
   "outputs": [],
   "source": [
    "#pull and convert drug use variable\n",
    "sub_use['t1_drug_use'] = df.y1s_drug.where(df.y1s_drug <= 3, 3)\n",
    "sub_use['t2_drug_use'] = df.y2s_drug.where(df.y2s_drug <= 3, 3)\n",
    "sub_use['t3_drug_use'] = df.y3s_drug.where(df.y3s_drug <= 3, 3)"
   ]
  },
  {
   "cell_type": "code",
   "execution_count": 5,
   "id": "275aff5c",
   "metadata": {},
   "outputs": [],
   "source": [
    "#pull and convert caffine variables\n",
    "def caff_dep1(row):\n",
    "    if row['y1s_caff_3'] == 0:\n",
    "        return 0\n",
    "    elif row['y1s_caff_3'] == 1:\n",
    "        return 2\n",
    "    elif row['y1s_caff_3'] > 1:\n",
    "        return 3\n",
    "sub_use['t1_caff_dep'] = df.apply(lambda row: caff_dep1(row), axis=1)\n",
    "\n",
    "def caff_dep2(row):\n",
    "    if row['y2s_caff_3'] == 0:\n",
    "        return 0\n",
    "    elif row['y2s_caff_3'] == 1:\n",
    "        return 2\n",
    "    elif row['y2s_caff_3'] > 1:\n",
    "        return 3\n",
    "sub_use['t2_caff_dep'] = df.apply(lambda row: caff_dep2(row), axis=1)\n",
    "\n",
    "def caff_dep3(row):\n",
    "    if row['y3s_caff_3'] == 0:\n",
    "        return 0\n",
    "    elif row['y3s_caff_3'] == 1:\n",
    "        return 2\n",
    "    elif row['y3s_caff_3'] > 1:\n",
    "        return 3\n",
    "sub_use['t3_caff_dep'] = df.apply(lambda row: caff_dep3(row), axis=1)"
   ]
  },
  {
   "cell_type": "code",
   "execution_count": 6,
   "id": "3bf6a8b0",
   "metadata": {},
   "outputs": [],
   "source": [
    "#pull and convert nicotine variables\n",
    "def nic_use1(row):\n",
    "    if row['y1s_nic_2'] <= 2:\n",
    "        return 0\n",
    "    elif row['y1s_nic_2'] == 3:\n",
    "        return 1\n",
    "    elif row['y1s_nic_2'] > 3:\n",
    "        return 3\n",
    "sub_use['t1_nic_use'] = df.apply(lambda row: nic_use1(row), axis=1)\n",
    "\n",
    "def nic_use2(row):\n",
    "    if row['y2s_nic_2'] <= 2:\n",
    "        return 0\n",
    "    elif row['y2s_nic_2'] == 3:\n",
    "        return 1\n",
    "    elif row['y2s_nic_2'] > 3:\n",
    "        return 3\n",
    "sub_use['t2_nic_use'] = df.apply(lambda row: nic_use2(row), axis=1)\n",
    "\n",
    "def nic_use3(row):\n",
    "    if row['y3s_nic_2'] <= 2:\n",
    "        return 0\n",
    "    elif row['y3s_nic_2'] == 3:\n",
    "        return 1\n",
    "    elif row['y3s_nic_2'] > 3:\n",
    "        return 3\n",
    "sub_use['t3_nic_use'] = df.apply(lambda row: nic_use3(row), axis=1)\n",
    "\n",
    "sub_use['t1_nic_dep'] = df.y1s_nic_3.where(df.y1s_nic_3 <= 3, 3)\n",
    "sub_use['t2_nic_dep'] = df.y2s_nic_3.where(df.y2s_nic_3 <= 3, 3)\n",
    "sub_use['t3_nic_dep'] = df.y3s_nic_3.where(df.y3s_nic_3 <= 3, 3)"
   ]
  },
  {
   "cell_type": "code",
   "execution_count": 7,
   "id": "47796a1d",
   "metadata": {
    "scrolled": true
   },
   "outputs": [],
   "source": [
    "#pull and convert alcohol vars\n",
    "def alc_use1(row):\n",
    "    if row['y1s_alc_use'] == 2:\n",
    "        return 1\n",
    "    elif row['y1s_alc_use'] == 3:\n",
    "        return 2\n",
    "    elif row['y1s_alc_use'] >= 6:\n",
    "        return 3\n",
    "    elif row['y1s_alc_use'] == 0 or 1:\n",
    "        return 0\n",
    "sub_use['t1_alc_use'] = df.apply(lambda row: alc_use1(row), axis=1)\n",
    "\n",
    "def alc_use2(row):\n",
    "    if row['y2s_alc_use'] == 2:\n",
    "        return 1\n",
    "    elif row['y2s_alc_use'] == 3:\n",
    "        return 2\n",
    "    elif row['y2s_alc_use'] >= 6:\n",
    "        return 3\n",
    "    elif row['y2s_alc_use'] == 0 or 1:\n",
    "        return 0\n",
    "sub_use['t2_alc_use'] = df.apply(lambda row: alc_use2(row), axis=1)\n",
    "\n",
    "def alc_use3(row):\n",
    "    if row['y3s_alc_use'] == 2:\n",
    "        return 1\n",
    "    elif row['y3s_alc_use'] == 3:\n",
    "        return 2\n",
    "    elif row['y3s_alc_use'] >= 6:\n",
    "        return 3\n",
    "    elif row['y3s_alc_use'] == 0 or 1:\n",
    "        return 0\n",
    "sub_use['t3_alc_use'] = df.apply(lambda row: alc_use3(row), axis=1)\n",
    "\n",
    "sub_use['t1_alc_dep'] = df.y1s_alc_16\n",
    "sub_use['t2_alc_dep'] = df.y2s_alc_16\n",
    "sub_use['t3_alc_dep'] = df.y3s_alc_16"
   ]
  },
  {
   "cell_type": "code",
   "execution_count": 8,
   "id": "77e44354",
   "metadata": {},
   "outputs": [],
   "source": [
    "#lump use factor\n",
    "sub_use['t1_use'] = sub_use.t1_drug_use + sub_use.t1_nic_use + sub_use.t1_alc_use\n",
    "sub_use['t2_use'] = sub_use.t2_drug_use + sub_use.t2_nic_use + sub_use.t2_alc_use\n",
    "sub_use['t3_use'] = sub_use.t3_drug_use + sub_use.t3_nic_use + sub_use.t3_alc_use"
   ]
  },
  {
   "cell_type": "code",
   "execution_count": 9,
   "id": "87a698c0",
   "metadata": {},
   "outputs": [],
   "source": [
    "#pull and convert risk factors\n",
    "sub_use['t1_pos_expect'] = df.y1s_pos_expec.apply(lambda x: x-1)\n",
    "sub_use['t2_pos_expect'] = df.y2s_pos_expec.apply(lambda x: x-1)\n",
    "\n",
    "sub_use['t1_neg_expect'] = df.y1s_neg_expec.apply(lambda x: x-1)\n",
    "sub_use['t2_neg_expect'] = df.y2s_neg_expec.apply(lambda x: x-1)\n",
    "\n",
    "sub_use['t1_cope'] = df.y1s_cope\n",
    "sub_use['t2_cope'] = df.y2s_cope\n",
    "sub_use['t3_cope'] = df.y3s_cope\n",
    "\n",
    "sub_use['t1_conform'] = df.y1s_conform\n",
    "sub_use['t2_conform'] = df.y2s_conform\n",
    "sub_use['t3_conform'] = df.y3s_conform"
   ]
  },
  {
   "cell_type": "code",
   "execution_count": 10,
   "id": "4b4b7949",
   "metadata": {},
   "outputs": [],
   "source": [
    "#pull and convert stressful events\n",
    "sub_use['t1_str'] = df.y1s_str_1\n",
    "sub_use['t2_str'] = df.y2s_str_1\n",
    "sub_use['t3_str'] = df.y3s_str_1"
   ]
  },
  {
   "cell_type": "code",
   "execution_count": 11,
   "id": "33223d31",
   "metadata": {},
   "outputs": [
    {
     "name": "stdout",
     "output_type": "stream",
     "text": [
      "H1: Difficulty coping with issues is related to substance use\n",
      "Results : r = 0.2641, p < 0.001; Null hypothesis rejected\n"
     ]
    }
   ],
   "source": [
    "print('H1: Difficulty coping with issues is related to substance use')\n",
    "#pearson's correlation\n",
    "h1df = sub_use[['t1_cope','t2_cope','t3_cope','t1_use','t2_use','t3_use']]\n",
    "h1df = h1df.dropna()\n",
    "h1df['cope'] = h1df.t1_cope + h1df.t2_cope + h1df.t3_cope\n",
    "h1df['use'] = h1df.t1_use + h1df.t2_use + h1df.t3_use\n",
    "#checked assumptions\n",
    "pearsonr(h1df.cope, h1df.use)\n",
    "print('Results : r = 0.2641, p < 0.001; Null hypothesis rejected')"
   ]
  },
  {
   "cell_type": "code",
   "execution_count": 12,
   "id": "4b55ff57",
   "metadata": {},
   "outputs": [
    {
     "name": "stdout",
     "output_type": "stream",
     "text": [
      "H2: Positive expectancies of substance use at T1 are related to dependence at T3\n",
      "Results : r = 0.2128, p < 0.001; Null hypothesis rejected\n"
     ]
    }
   ],
   "source": [
    "print('H2: Positive expectancies of substance use at T1 are related to dependence at T3')\n",
    "#pearson's correlation\n",
    "h2df = sub_use[['t1_pos_expect','t3_caff_dep','t3_nic_dep','t3_alc_dep']]\n",
    "h2df = h2df.dropna()\n",
    "h2df['t3_dep'] = h2df.t3_caff_dep + h2df.t3_nic_dep + h2df.t3_alc_dep\n",
    "#checked assumptions\n",
    "pearsonr(h2df.t1_pos_expect, h2df.t3_dep)\n",
    "print('Results : r = 0.2128, p < 0.001; Null hypothesis rejected')"
   ]
  },
  {
   "cell_type": "code",
   "execution_count": 13,
   "id": "f827cd61",
   "metadata": {},
   "outputs": [
    {
     "name": "stdout",
     "output_type": "stream",
     "text": [
      "H3: Negative expectancies of substance use at T1 will impact amount of substance use at T2\n",
      "Results : t = 2.57, p = 0.01; Null hypothesis rejected\n"
     ]
    }
   ],
   "source": [
    "print('H3: Negative expectancies of substance use at T1 will impact amount of substance use at T2')\n",
    "#two tailed two sample t test\n",
    "h3df = sub_use[['t1_neg_expect', 't1_use', 't2_use']]\n",
    "h3df = h3df.dropna()\n",
    "h3df['use_change'] = h3df['t2_use'] - h3df['t1_use']\n",
    "\n",
    "def expectancies(row):\n",
    "    if row['t1_neg_expect'] <= 1:\n",
    "        return 'low_neg_expect'\n",
    "    elif row['t1_neg_expect'] >= 2:\n",
    "        return 'high_neg_expect'\n",
    "h3df['group'] = h3df.apply(lambda row: expectancies(row), axis=1)\n",
    "low_neg_expect = h3df[h3df.group == 'low_neg_expect'].use_change\n",
    "high_neg_expect = h3df[h3df.group == 'high_neg_expect'].use_change\n",
    "\n",
    "#checked assumptions\n",
    "stats.ttest_ind(high_neg_expect, low_neg_expect, equal_var=True)\n",
    "print('Results : t = 2.57, p = 0.01; Null hypothesis rejected')"
   ]
  },
  {
   "cell_type": "code",
   "execution_count": 14,
   "id": "c24ae5e3",
   "metadata": {},
   "outputs": [
    {
     "name": "stdout",
     "output_type": "stream",
     "text": [
      "H4: Experience of a stressful event will be associated with higher substance use\n",
      "Result : t = 7.11, p < 0.001; Null hypothesis rejected\n"
     ]
    }
   ],
   "source": [
    "print('H4: Experience of a stressful event will be associated with higher substance use')\n",
    "#one tailed two sample t test\n",
    "h4df = sub_use[['t1_str', 't2_str', 't3_str', 't3_use']]\n",
    "h4df = h4df.dropna()\n",
    "h4df['stress'] = h4df.t1_str + h4df.t2_str + h4df.t3_str\n",
    "def stressor(row):\n",
    "    if row['stress'] >= 1:\n",
    "        return 'yes'\n",
    "    else :\n",
    "        return 'no'\n",
    "h4df['group'] = h4df.apply(lambda row: stressor(row), axis=1)\n",
    "stressor = h4df[h4df.group == 'yes'].t3_use\n",
    "no_stressor = h4df[h4df.group == 'no'].t3_use\n",
    "\n",
    "#checked assumptions\n",
    "stats.ttest_ind(stressor, no_stressor, equal_var=True, alternative = 'greater')\n",
    "print('Result : t = 7.11, p < 0.001; Null hypothesis rejected')"
   ]
  },
  {
   "cell_type": "code",
   "execution_count": 15,
   "id": "7d061ab1",
   "metadata": {},
   "outputs": [
    {
     "name": "stdout",
     "output_type": "stream",
     "text": [
      "H5: Substance use will change over time\n",
      "Result : q = 94.10, p < 0.001; Null hypothesis rejected\n"
     ]
    }
   ],
   "source": [
    "print('H5: Substance use will change over time')\n",
    "#Friedman Test\n",
    "h5df = sub_use[['t1_use','t2_use', 't3_use']]\n",
    "h5df = h5df.dropna()\n",
    "\n",
    "#checked assumptions\n",
    "stats.friedmanchisquare(h5df.t1_use, h5df.t2_use, h5df.t3_use)\n",
    "print('Result : q = 94.10, p < 0.001; Null hypothesis rejected')"
   ]
  },
  {
   "cell_type": "code",
   "execution_count": 16,
   "id": "d64f9b24",
   "metadata": {
    "scrolled": true
   },
   "outputs": [
    {
     "name": "stdout",
     "output_type": "stream",
     "text": [
      "H6: Conformity will change over time\n",
      "Result : f = 8.19, p < 0.001; Null hypothesis rejected\n"
     ]
    }
   ],
   "source": [
    "print('H6: Conformity will change over time')\n",
    "#anova\n",
    "h6df = sub_use[['t1_conform','t2_conform', 't3_conform']]\n",
    "h6df = h6df.dropna()\n",
    "\n",
    "#checked assumptions\n",
    "fvalue, pvalue = stats.f_oneway(h6df.t1_conform, h6df.t2_conform, h6df.t3_conform)\n",
    "print('Result : f = 8.19, p < 0.001; Null hypothesis rejected')"
   ]
  },
  {
   "cell_type": "code",
   "execution_count": null,
   "id": "85ece8ef",
   "metadata": {},
   "outputs": [],
   "source": []
  }
 ],
 "metadata": {
  "kernelspec": {
   "display_name": "Python 3 (ipykernel)",
   "language": "python",
   "name": "python3"
  },
  "language_info": {
   "codemirror_mode": {
    "name": "ipython",
    "version": 3
   },
   "file_extension": ".py",
   "mimetype": "text/x-python",
   "name": "python",
   "nbconvert_exporter": "python",
   "pygments_lexer": "ipython3",
   "version": "3.10.9"
  }
 },
 "nbformat": 4,
 "nbformat_minor": 5
}
