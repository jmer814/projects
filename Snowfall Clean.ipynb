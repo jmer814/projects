{
 "cells": [
  {
   "cell_type": "code",
   "execution_count": 1,
   "id": "84652c72",
   "metadata": {},
   "outputs": [],
   "source": [
    "import pandas as pd\n",
    "df = pd.read_csv('snowfall.csv')"
   ]
  },
  {
   "cell_type": "code",
   "execution_count": 2,
   "id": "1fa170d9",
   "metadata": {},
   "outputs": [
    {
     "name": "stdout",
     "output_type": "stream",
     "text": [
      "         Resort Locations       Date 24 hr New Snow Season Snowfall Total  \\\n",
      "0  Jackson Hole   Wyoming   2-Jan-17           8 cm                  8 cm   \n",
      "1  Jackson Hole   Wyoming   4-Jan-17           8 cm                 16 cm   \n",
      "2  Jackson Hole   Wyoming   5-Jan-17           8 cm                 24 cm   \n",
      "3  Jackson Hole   Wyoming   8-Jan-17          10 cm                 34 cm   \n",
      "4  Jackson Hole   Wyoming  10-Jan-17          20 cm                 54 cm   \n",
      "\n",
      "  Base Depth  24 hr New Snow cm  Season Snowfall Total cm  Base Depth cm  \\\n",
      "0      74 cm                  8                         8             74   \n",
      "1      71 cm                  8                        16             71   \n",
      "2      76 cm                  8                        24             76   \n",
      "3      81 cm                 10                        34             81   \n",
      "4      79 cm                 20                        54             79   \n",
      "\n",
      "   24 hr New Snow in  Season Snowfall Total in  Base Depth in  \n",
      "0           3.149606                  3.149606      29.133858  \n",
      "1           3.149606                  6.299213      27.952756  \n",
      "2           3.149606                  9.448819      29.921260  \n",
      "3           3.937008                 13.385827      31.889764  \n",
      "4           7.874016                 21.259843      31.102362  \n"
     ]
    }
   ],
   "source": [
    "df['24 hr New Snow cm'] = df['24 hr New Snow'].str[:-3]\n",
    "df['Season Snowfall Total cm'] = df['Season Snowfall Total'].str[:-3]\n",
    "df['Base Depth cm'] = df['Base Depth'].str[:-3]\n",
    "\n",
    "df['24 hr New Snow cm'] = pd.to_numeric(df['24 hr New Snow cm'])\n",
    "df['Season Snowfall Total cm'] = pd.to_numeric(df['Season Snowfall Total cm'])\n",
    "df['Base Depth cm'] = pd.to_numeric(df['Base Depth cm'])\n",
    "\n",
    "df['24 hr New Snow in'] = (df['24 hr New Snow cm']/2.54)\n",
    "df['Season Snowfall Total in'] = (df['Season Snowfall Total cm']/2.54)\n",
    "df['Base Depth in'] = (df['Base Depth cm']/2.54)\n",
    "print(df.head())"
   ]
  },
  {
   "cell_type": "code",
   "execution_count": 3,
   "id": "ef8e1bd5",
   "metadata": {},
   "outputs": [],
   "source": [
    "df.to_csv('snowfalledit.csv')"
   ]
  },
  {
   "cell_type": "code",
   "execution_count": null,
   "id": "00a2b207",
   "metadata": {},
   "outputs": [],
   "source": []
  }
 ],
 "metadata": {
  "kernelspec": {
   "display_name": "Python 3 (ipykernel)",
   "language": "python",
   "name": "python3"
  },
  "language_info": {
   "codemirror_mode": {
    "name": "ipython",
    "version": 3
   },
   "file_extension": ".py",
   "mimetype": "text/x-python",
   "name": "python",
   "nbconvert_exporter": "python",
   "pygments_lexer": "ipython3",
   "version": "3.10.9"
  }
 },
 "nbformat": 4,
 "nbformat_minor": 5
}
